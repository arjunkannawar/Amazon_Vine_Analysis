{
  "nbformat": 4,
  "nbformat_minor": 0,
  "metadata": {
    "colab": {
      "name": "Vine_Review_Analysis.ipynb",
      "provenance": [],
      "collapsed_sections": []
    },
    "kernelspec": {
      "name": "python3",
      "display_name": "Python 3"
    },
    "language_info": {
      "name": "python"
    }
  },
  "cells": [
    {
      "cell_type": "code",
      "metadata": {
        "colab": {
          "base_uri": "https://localhost:8080/"
        },
        "id": "O05WhsmGBrkj",
        "outputId": "de75a593-5784-4061-dca7-0f2574dd3446"
      },
      "source": [
        "#Install Pyspark\n",
        "import os\n",
        "# Find the latest version of spark 3.0  from http://www-us.apache.org/dist/spark/ and enter as the spark version\n",
        "# For example:\n",
        "# spark_version = 'spark-3.0.2'\n",
        "spark_version = 'spark-3.1.1'\n",
        "os.environ['SPARK_VERSION']=spark_version\n",
        "# Install Spark and Java\n",
        "!apt-get update\n",
        "!apt-get install openjdk-11-jdk-headless -qq > /dev/null\n",
        "!wget -q http://www-us.apache.org/dist/spark/$SPARK_VERSION/$SPARK_VERSION-bin-hadoop2.7.tgz\n",
        "!tar xf $SPARK_VERSION-bin-hadoop2.7.tgz\n",
        "!pip install -q findspark\n",
        "# Set Environment Variables\n",
        "import os\n",
        "os.environ[\"JAVA_HOME\"] = \"/usr/lib/jvm/java-11-openjdk-amd64\"\n",
        "os.environ[\"SPARK_HOME\"] = f\"/content/{spark_version}-bin-hadoop2.7\"\n",
        "# Start a SparkSession\n",
        "import findspark\n",
        "findspark.init()"
      ],
      "execution_count": 1,
      "outputs": [
        {
          "output_type": "stream",
          "text": [
            "\r0% [Working]\r            \rGet:1 https://cloud.r-project.org/bin/linux/ubuntu bionic-cran40/ InRelease [3,626 B]\n",
            "Ign:2 https://developer.download.nvidia.com/compute/cuda/repos/ubuntu1804/x86_64  InRelease\n",
            "Ign:3 https://developer.download.nvidia.com/compute/machine-learning/repos/ubuntu1804/x86_64  InRelease\n",
            "Get:4 http://ppa.launchpad.net/c2d4u.team/c2d4u4.0+/ubuntu bionic InRelease [15.9 kB]\n",
            "Hit:5 http://archive.ubuntu.com/ubuntu bionic InRelease\n",
            "Get:6 http://security.ubuntu.com/ubuntu bionic-security InRelease [88.7 kB]\n",
            "Get:7 https://developer.download.nvidia.com/compute/cuda/repos/ubuntu1804/x86_64  Release [697 B]\n",
            "Hit:8 https://developer.download.nvidia.com/compute/machine-learning/repos/ubuntu1804/x86_64  Release\n",
            "Get:9 https://developer.download.nvidia.com/compute/cuda/repos/ubuntu1804/x86_64  Release.gpg [836 B]\n",
            "Get:10 http://archive.ubuntu.com/ubuntu bionic-updates InRelease [88.7 kB]\n",
            "Hit:11 http://ppa.launchpad.net/cran/libgit2/ubuntu bionic InRelease\n",
            "Get:12 http://archive.ubuntu.com/ubuntu bionic-backports InRelease [74.6 kB]\n",
            "Get:13 http://ppa.launchpad.net/deadsnakes/ppa/ubuntu bionic InRelease [15.9 kB]\n",
            "Hit:14 http://ppa.launchpad.net/graphics-drivers/ppa/ubuntu bionic InRelease\n",
            "Ign:16 https://developer.download.nvidia.com/compute/cuda/repos/ubuntu1804/x86_64  Packages\n",
            "Get:16 https://developer.download.nvidia.com/compute/cuda/repos/ubuntu1804/x86_64  Packages [696 kB]\n",
            "Get:17 http://ppa.launchpad.net/c2d4u.team/c2d4u4.0+/ubuntu bionic/main Sources [1,751 kB]\n",
            "Get:18 http://security.ubuntu.com/ubuntu bionic-security/restricted amd64 Packages [395 kB]\n",
            "Get:19 http://security.ubuntu.com/ubuntu bionic-security/multiverse amd64 Packages [24.5 kB]\n",
            "Get:20 http://security.ubuntu.com/ubuntu bionic-security/universe amd64 Packages [1,408 kB]\n",
            "Get:21 http://archive.ubuntu.com/ubuntu bionic-updates/multiverse amd64 Packages [31.4 kB]\n",
            "Get:22 http://archive.ubuntu.com/ubuntu bionic-updates/universe amd64 Packages [2,179 kB]\n",
            "Get:23 http://security.ubuntu.com/ubuntu bionic-security/main amd64 Packages [2,112 kB]\n",
            "Get:24 http://ppa.launchpad.net/c2d4u.team/c2d4u4.0+/ubuntu bionic/main amd64 Packages [896 kB]\n",
            "Get:25 http://archive.ubuntu.com/ubuntu bionic-updates/main amd64 Packages [2,542 kB]\n",
            "Get:26 http://archive.ubuntu.com/ubuntu bionic-updates/restricted amd64 Packages [425 kB]\n",
            "Get:27 http://ppa.launchpad.net/deadsnakes/ppa/ubuntu bionic/main amd64 Packages [39.5 kB]\n",
            "Fetched 12.8 MB in 4s (3,574 kB/s)\n",
            "Reading package lists... Done\n"
          ],
          "name": "stdout"
        }
      ]
    },
    {
      "cell_type": "code",
      "metadata": {
        "id": "2Aw0X1Q6B7LX"
      },
      "source": [
        "from pyspark.sql import SparkSession\n",
        "spark = SparkSession.builder.appName(\"BigData-Challenge\").config(\"spark.driver.extraClassPath\",\"/content/postgresql-42.2.16.jar\").getOrCreate()"
      ],
      "execution_count": 3,
      "outputs": []
    },
    {
      "cell_type": "code",
      "metadata": {
        "colab": {
          "base_uri": "https://localhost:8080/"
        },
        "id": "KhKXoEZFB-bx",
        "outputId": "7502eb2d-f4ed-4391-e21f-cc274e74f7ef"
      },
      "source": [
        "from pyspark import SparkFiles\n",
        "url = \"https://s3.amazonaws.com/amazon-reviews-pds/tsv/amazon_reviews_us_Watches_v1_00.tsv.gz\"\n",
        "spark.sparkContext.addFile(url)\n",
        "df = spark.read.option(\"encoding\", \"UTF-8\").csv(SparkFiles.get(\"\"), sep=\"\\t\", header=True, inferSchema=True)\n",
        "df.show()"
      ],
      "execution_count": 4,
      "outputs": [
        {
          "output_type": "stream",
          "text": [
            "+-----------+-----------+--------------+----------+--------------+--------------------+----------------+-----------+-------------+-----------+----+-----------------+--------------------+--------------------+-----------+\n",
            "|marketplace|customer_id|     review_id|product_id|product_parent|       product_title|product_category|star_rating|helpful_votes|total_votes|vine|verified_purchase|     review_headline|         review_body|review_date|\n",
            "+-----------+-----------+--------------+----------+--------------+--------------------+----------------+-----------+-------------+-----------+----+-----------------+--------------------+--------------------+-----------+\n",
            "|         US|    3653882|R3O9SGZBVQBV76|B00FALQ1ZC|     937001370|Invicta Women's 1...|         Watches|          5|            0|          0|   N|                Y|          Five Stars|Absolutely love t...| 2015-08-31|\n",
            "|         US|   14661224| RKH8BNC3L5DLF|B00D3RGO20|     484010722|Kenneth Cole New ...|         Watches|          5|            0|          0|   N|                Y|I love thiswatch ...|I love this watch...| 2015-08-31|\n",
            "|         US|   27324930|R2HLE8WKZSU3NL|B00DKYC7TK|     361166390|Ritche 22mm Black...|         Watches|          2|            1|          1|   N|                Y|           Two Stars|           Scratches| 2015-08-31|\n",
            "|         US|    7211452|R31U3UH5AZ42LL|B000EQS1JW|     958035625|Citizen Men's BM8...|         Watches|          5|            0|          0|   N|                Y|          Five Stars|It works well on ...| 2015-08-31|\n",
            "|         US|   12733322|R2SV659OUJ945Y|B00A6GFD7S|     765328221|Orient ER27009B M...|         Watches|          4|            0|          0|   N|                Y|Beautiful face, b...|Beautiful watch f...| 2015-08-31|\n",
            "|         US|    6576411| RA51CP8TR5A2L|B00EYSOSE8|     230493695|Casio Men's GW-94...|         Watches|          5|            0|          0|   N|                Y|       No complaints|i love this watch...| 2015-08-31|\n",
            "|         US|   11811565| RB2Q7DLDN6TH6|B00WM0QA3M|     549298279|Fossil Women's ES...|         Watches|          5|            1|          1|   N|                Y|          Five Stars|for my wife and s...| 2015-08-31|\n",
            "|         US|   49401598|R2RHFJV0UYBK3Y|B00A4EYBR0|     844009113|INFANTRY Mens Nig...|         Watches|          1|            1|          5|   N|                N|I was about to bu...|I was about to bu...| 2015-08-31|\n",
            "|         US|   45925069|R2Z6JOQ94LFHEP|B00MAMPGGE|     263720892|G-Shock Men's Gre...|         Watches|          5|            1|          2|   N|                Y|      Perfect watch!|Watch is perfect....| 2015-08-31|\n",
            "|         US|   44751341| RX27XIIWY5JPB|B004LBPB7Q|     124278407|Heiden Quad Watch...|         Watches|          4|            0|          0|   N|                Y|Great quality and...|Great quality and...| 2015-08-31|\n",
            "|         US|    9962330|R15C7QEZT0LGZN|B00KGTVGKS|      28017857|Fossil Women's ES...|         Watches|          4|            2|          2|   N|                Y|           Satisfied|The watch was pre...| 2015-08-31|\n",
            "|         US|   16097204|R361XSS37V0NCZ|B0039UT5OU|     685450910|Casio General Men...|         Watches|          1|            0|          0|   N|                N|I do not think th...|I bought this wat...| 2015-08-31|\n",
            "|         US|   51330346| ROTNLALUAJAUB|B00MPF0XJQ|     767769082|2Tone Gold Silver...|         Watches|          3|            0|          0|   N|                Y|         Three Stars|It is a cheap wat...| 2015-08-31|\n",
            "|         US|    4201739|R2DYX7QU6BGOHR|B003P1OHHS|     648595227|Bulova Men's 98B1...|         Watches|          5|            0|          0|   N|                Y|          Five Stars|Heavier than i th...| 2015-08-31|\n",
            "|         US|   26339765| RWASY7FKI7QOT|B00R70YEOE|     457338020|Casio - G-Shock -...|         Watches|          5|            2|          3|   N|                Y|  Worth it - love it|Had it for severa...| 2015-08-31|\n",
            "|         US|    2692576|R2KKYZIN3CCL21|B000FVE3BG|     824370661|Invicta Men's 332...|         Watches|          5|            0|          0|   N|                Y|This is when diff...|This one is diffe...| 2015-08-31|\n",
            "|         US|   44713366|R22H4FGVD5O52O|B008X6JB12|     814431355|Seiko Women's SUT...|         Watches|          4|            1|          1|   N|                Y|Thewatch is attra...|The watch is attr...| 2015-08-31|\n",
            "|         US|   32778769|R11UACZERCM4ZY|B0040UOFPW|     187700878|Anne Klein Women'...|         Watches|          5|            0|          0|   N|                Y|          Five Stars|      said my wife..| 2015-08-31|\n",
            "|         US|   27258523|R1AT8NQ38UQOL6|B00UR2R5UY|     594315262|Guess U13630G1 Me...|         Watches|          5|            0|          0|   N|                Y|          Five Stars|Nice watch, on ti...| 2015-08-31|\n",
            "|         US|   42646538|R2NCZRQGIF1Q75|B00HFF57L0|     520810507|Nixon Men's Geo V...|         Watches|          4|            0|          0|   N|                Y|        Very stylish|Looks great and l...| 2015-08-31|\n",
            "+-----------+-----------+--------------+----------+--------------+--------------------+----------------+-----------+-------------+-----------+----+-----------------+--------------------+--------------------+-----------+\n",
            "only showing top 20 rows\n",
            "\n"
          ],
          "name": "stdout"
        }
      ]
    },
    {
      "cell_type": "code",
      "metadata": {
        "id": "XphZg6_5a4_h"
      },
      "source": [
        "from pyspark.sql.functions import col, avg"
      ],
      "execution_count": 74,
      "outputs": []
    },
    {
      "cell_type": "code",
      "metadata": {
        "colab": {
          "base_uri": "https://localhost:8080/"
        },
        "id": "_Oim2obXC-I1",
        "outputId": "e485dde6-99aa-48f3-aae1-cf695ad456a7"
      },
      "source": [
        "votes_df = df.filter(df[\"total_votes\"] >= \"20\")\n",
        "votes_df.show(20,truncate=False)"
      ],
      "execution_count": 10,
      "outputs": [
        {
          "output_type": "stream",
          "text": [
            "+-----------+-----------+--------------+----------+--------------+---------------------------------------------------------------------------------------------------------+----------------+-----------+-------------+-----------+----+-----------------+--------------------------------------------------------------------------------------------------+-----------------------------------------------------------------------------------------------------------------------------------------------------------------------------------------------------------------------------------------------------------------------------------------------------------------------------------------------------------------------------------------------------------------------------------------------------------------------------------------------------------------------------------------------------------------------------------------------------------------------------------------------------------------------------------------------------------------------------------------------------------------------------------------------------------------------------------------------------------------------------------------------------------------------------------------------------------------------------------------------------------------------------------------------------------------------------------------------------------------------------------------------------------------------------------------------------------------------------------------------------------------------------------------------------------------------------------------------------------------------------------------------------------------------------------------------------------------------------------------------------------------------------------------------------------------------------------------------------------------------------------------------------------------------------------------------------+-----------+\n",
            "|marketplace|customer_id|review_id     |product_id|product_parent|product_title                                                                                            |product_category|star_rating|helpful_votes|total_votes|vine|verified_purchase|review_headline                                                                                   |review_body                                                                                                                                                                                                                                                                                                                                                                                                                                                                                                                                                                                                                                                                                                                                                                                                                                                                                                                                                                                                                                                                                                                                                                                                                                                                                                                                                                                                                                                                                                                                                                                                                                                                                          |review_date|\n",
            "+-----------+-----------+--------------+----------+--------------+---------------------------------------------------------------------------------------------------------+----------------+-----------+-------------+-----------+----+-----------------+--------------------------------------------------------------------------------------------------+-----------------------------------------------------------------------------------------------------------------------------------------------------------------------------------------------------------------------------------------------------------------------------------------------------------------------------------------------------------------------------------------------------------------------------------------------------------------------------------------------------------------------------------------------------------------------------------------------------------------------------------------------------------------------------------------------------------------------------------------------------------------------------------------------------------------------------------------------------------------------------------------------------------------------------------------------------------------------------------------------------------------------------------------------------------------------------------------------------------------------------------------------------------------------------------------------------------------------------------------------------------------------------------------------------------------------------------------------------------------------------------------------------------------------------------------------------------------------------------------------------------------------------------------------------------------------------------------------------------------------------------------------------------------------------------------------------+-----------+\n",
            "|US         |17728960   |R14W2VCHHK5V7W|B00ZI3R5VG|213303319     |Stuhrling Original Men's 824.01 Regatta Analog Japanese Quartz Stainless Steel Watch                     |Watches         |5          |19           |20         |N   |Y                |this is a good alternative. Very pleased with it                                                  |As a former Rolex owner (GMT Master) for 35 years, I have been very surprised by this Stuhrling watch.  Yes, its' a quartz watch, not a chronograph, the band isn't as heavy duty, as the Rolex was, but still this 824.01 is very attractive and is working well.  Compared to a $3k watch with a $250 band, this is a good alternative.  Very pleased with it.                                                                                                                                                                                                                                                                                                                                                                                                                                                                                                                                                                                                                                                                                                                                                                                                                                                                                                                                                                                                                                                                                                                                                                                                                                                                                                                                     |2015-08-31 |\n",
            "|US         |20240757   |R1S3T57O3OYT5S|B003DZ7VOW|336197576     |G-Shock GA100A-7A Classic Series Designer Watches - White                                                |Watches         |5          |19           |20         |N   |Y                |Five Stars                                                                                        |Great watch                                                                                                                                                                                                                                                                                                                                                                                                                                                                                                                                                                                                                                                                                                                                                                                                                                                                                                                                                                                                                                                                                                                                                                                                                                                                                                                                                                                                                                                                                                                                                                                                                                                                                          |2015-08-31 |\n",
            "|US         |15806601   |R1BTWIBLYYVOV7|B00I1LM5SK|878438426     |Seiko Men's SSC229 Sport Solar-Power Stainless Steel Bracelet Watch                                      |Watches         |5          |30           |30         |N   |Y                |Extremely Satisfied!                                                                              |A beautiful timepiece worthy of the Seiko name. This watch has the quality of a much more expensive brand get does it all for less money.                                                                                                                                                                                                                                                                                                                                                                                                                                                                                                                                                                                                                                                                                                                                                                                                                                                                                                                                                                                                                                                                                                                                                                                                                                                                                                                                                                                                                                                                                                                                                            |2015-08-31 |\n",
            "|US         |14870011   |R6F9VY91ADPLA |B002ZLE41I|118278818     |Grand Seiko Wristwatch Sbgx061 Mens                                                                      |Watches         |1          |8            |30         |N   |N                |NOT a GS                                                                                          |NOT a Grand Seiko - do not buy at this price.<br /><br />Don't know if the poster realizes is, but the watch pictured is NOT a Grand Seiko.                                                                                                                                                                                                                                                                                                                                                                                                                                                                                                                                                                                                                                                                                                                                                                                                                                                                                                                                                                                                                                                                                                                                                                                                                                                                                                                                                                                                                                                                                                                                                          |2015-08-31 |\n",
            "|US         |32751852   |R3PXNV89DFIXKV|B00OAY5ZPC|814269665     |G-Shock Men's Military GD-400 Watch, Black, One Size                                                     |Watches         |5          |35           |37         |N   |Y                |Sweet watch perfect for all purpose watch                                                         |Sweet watch perfect for all purpose watch! Green and black really pop! Hope the pics help this watch is by far my favorite!                                                                                                                                                                                                                                                                                                                                                                                                                                                                                                                                                                                                                                                                                                                                                                                                                                                                                                                                                                                                                                                                                                                                                                                                                                                                                                                                                                                                                                                                                                                                                                          |2015-08-30 |\n",
            "|US         |36877359   |R2ZF9NYVT3J7D6|B000JQJS6M|926299553     |Invicta Men's 8928OB Pro Diver Gold Stainless Steel Two-Tone Automatic Watch                             |Watches         |5          |19           |22         |N   |Y                |Wow what a great watch                                                                            |I bought this watch after being NAUI scuba certified and let me tell you this is my favorite watch ever. The high  Quality  that is put into this watch  really shows it features a screw down crown which can be a little bit difficult to get used to but all you have to do is unscrew the crown and it helps keep the water out whenever it's screwed in this watch is movement powered  using an amazing Japanese Patton and I would never ever ever write a review other than what I am writing due to the fact of the high-quality made by Swiss company that is meant to look just like the Rolex submariner .  Best dive watch I have ever owned would highly recommend it to anyone who wants a dive watch and is unsure five stars  also features one of the best glow in the dark features I have ever seen works just using the light and then it glows very highly so that you can easily see it in the movie theaters or in bed or underwater it that is dark . Comes in a very nice cheese box by Invicta is amazing                                                                                                                                                                                                                                                                                                                                                                                                                                                                                                                                                                                                                                                                 |2015-08-30 |\n",
            "|US         |52450678   |R20NYA5V0UF9NE|B00EX1GLXM|186312431     |Daniel Wellington Women's 0511DW Classic Bristol Analog Display Quartz Brown Watch                       |Watches         |5          |27           |28         |N   |Y                |Best Women's Watch                                                                                |I love this watch! It doesn't come stiff, and fits really well. I have a very small wrist and it fits mine. The shipping was fast and when I opened it I received the dw box as well. Favorite women's watch so far!                                                                                                                                                                                                                                                                                                                                                                                                                                                                                                                                                                                                                                                                                                                                                                                                                                                                                                                                                                                                                                                                                                                                                                                                                                                                                                                                                                                                                                                                                 |2015-08-30 |\n",
            "|US         |20624774   |R2X8FZRUOS8R8C|B00WUY9RGM|609917507     |Bulova Accutron II Men's UHF Stainless Steel Mesh Bracelet Watch 96B232                                  |Watches         |4          |25           |26         |N   |Y                |A very nice reissue of a watch they made in the 70's                                              |A very nice reissue of a watch they made in the 70's. The crowns don't screw down. The one for the inner bezel has a good snug feel and  the bezel stays in place. One disappointment is the lume. It's weak and doesn't last very long. Other than that it's a beauty.<br /><br />Bob                                                                                                                                                                                                                                                                                                                                                                                                                                                                                                                                                                                                                                                                                                                                                                                                                                                                                                                                                                                                                                                                                                                                                                                                                                                                                                                                                                                                               |2015-08-29 |\n",
            "|US         |225889     |R2D8IMBVX3XCLF|B00U0XC1T0|31905742      |Akribos XXIV Men's AK813YG  Round Yellow Gold Radiant Sunburst Dial Chronograph Quartz Bracelet Watch    |Watches         |1          |14           |20         |N   |Y                |I bought in 30 june. But i just use ...                                                           |I bought in 30 june. But i just use watches in 28 july. Final it becam in water n stainless. I feel so hopeless about it. This is gift for my husband                                                                                                                                                                                                                                                                                                                                                                                                                                                                                                                                                                                                                                                                                                                                                                                                                                                                                                                                                                                                                                                                                                                                                                                                                                                                                                                                                                                                                                                                                                                                                |2015-08-29 |\n",
            "|US         |36602051   |R25UD9TA63L3Q8|B00YTYH16Y|251372732     |Timex Expedition Grid Shock Watch                                                                        |Watches         |5          |25           |27         |N   |Y                |Great watch for several purposes!                                                                 |I work in an a medical setting where I'm constantly washing my hands. I need a watch that can handle that. Furthermore, I need a watch with a big enough display to show me the time and date without putting my readers on. This watch meets both needs very well!                                                                                                                                                                                                                                                                                                                                                                                                                                                                                                                                                                                                                                                                                                                                                                                                                                                                                                                                                                                                                                                                                                                                                                                                                                                                                                                                                                                                                                  |2015-08-28 |\n",
            "|US         |47047549   |R2RB1HML8N712P|B00J5QR062|220979928     |Casio Men's GA-110TS-8A3CR G-Shock Grey Watch                                                            |Watches         |5          |26           |28         |N   |Y                |My First G-SHOCK...                                                                               |I'll be honest I have never liked the cheap feel and look of the G shock watches but I was looking for something that combined sport with style in all white color and this one caught my eye. Maybe I'm colorblind but all the pictures I've seen of this watch look WHITE and the main reason I bought this particular watch was because I thought it was white but it is indeed GREY not white. I set the watch up with the provided instructions and I've been wearing it all day and I like it a lot. Even though it's not white the gray colors pretty cool and it's definitely stylish and comfortable. I can't think of any downside to this watch five stars on this end!                                                                                                                                                                                                                                                                                                                                                                                                                                                                                                                                                                                                                                                                                                                                                                                                                                                                                                                                                                                                                   |2015-08-28 |\n",
            "|US         |2546433    |ROXA8XP5EI2KK |B009XGOP8A|973820677     |Michael Kors Women's Camille Gold-Tone Watch MK5720                                                      |Watches         |5          |48           |49         |N   |N                |I love it. I would recommend buying from the MK ...                                               |This thing is gorgeous all around. A show stopper. Not for every day use but very special occasions. If you want to &#34;wow&#34; the crowd, this will do. I love it. I would recommend buying from the MK store or authorize dealers like Dillard's or Macy's. It's not a Rolex but still, it's a $550, you better off knowing you getting the real deal. It's a gamble buying online. I heard some people complaining about it being cheap yellow and cheap looking, they most likely got a fake. This watch dreams quality and sophistication. The pictures don't do it justice. I totally recommend it.                                                                                                                                                                                                                                                                                                                                                                                                                                                                                                                                                                                                                                                                                                                                                                                                                                                                                                                                                                                                                                                                                          |2015-08-28 |\n",
            "|US         |24173990   |R149IHTGGSRGX9|B00BKQTA4A|128852263     |Daniel Wellington Women's 0608DW Sheffield Stainless Steel Watch                                         |Watches         |5          |19           |20         |N   |Y                |Five Stars                                                                                        |Great watch! My new favorite                                                                                                                                                                                                                                                                                                                                                                                                                                                                                                                                                                                                                                                                                                                                                                                                                                                                                                                                                                                                                                                                                                                                                                                                                                                                                                                                                                                                                                                                                                                                                                                                                                                                         |2015-08-28 |\n",
            "|US         |53096363   |R1B7M0OP3UNP6O|B00V0G9OGE|297682929     |Armitron Sport Women's 45/7053 Digital Resin Strap Watch                                                 |Watches         |5          |49           |52         |Y   |N                |Lots of features in a compact, nice-looking watch                                                 |My wife has been looking for a watch with an alarm and an illuminated display. Most of the &#34;sport&#34; watches are large and clunky, but not this Armitron. The watch body is considerably smaller than the typical sport watch and the teal band color is softer than it appears on my monitor - my wife likes it a lot.<br /><br />This watch packs a LOT of features, which also means that the controls are a bit complicated. There are four buttons which get pressed in various combinations. A detailed instruction leaflet is included, but if you're over 30 you may need a magnifying glass to read it. There were some features we really liked:<br /><br />- You can set a second time zone (though the day indicator doesn't show in the T2 mode.) You get to this mode by pressing the lower left button four times. What is really nice is that if you set one of the three (!) alarms, you can specify which time zone it is for!<br />- As I mentioned, there are three alarms - these can be daily or weekly (on a specified day). The alarm sound is rather faint - my wife likes this, but if you need a loud alarm, this watch is not for you. There is also an hourly chime you can set.<br />- The stopwatch/chronograph mode has a split feature and you can also set a countdown timer<br />- The illumination is gentle - it doesn't light the entire face - and fades out after three seconds<br /><br />The watch is waterproof to 100 meters (330 feet), as long as you don't press any buttons.                                                                                                                                                                   |2015-08-27 |\n",
            "|US         |27863178   |R2N92CUM7WBA1A|B013XHV4GU|119578945     |G-Shock Men's G-Steel Watch, Stainless Steel/Black, One Size                                             |Watches         |5          |27           |28         |N   |Y                |Big, but proportioned well                                                                        |This is a great choice for a metal G-Shock. It wears big, but the way the bracelet attaches to the lugs makes it fit much better than my G-Shock with the resin strap. One interesting feature of the metal bracelet is that the removable links are connected by spring bars rather than pins. I don't know whether that makes it easier or harder to size, but a couple of spring bars did hit the ceiling while I was sizing the band. The digital displays provide the right amount of extra information to the analog hands and make it more user-friendly than the analog-only choices. The solar charging works well, and the only feature this model is missing is the multi-band radio signal reception. I have to think it was originally designed to include multi-band since the pusher at 4 o'clock is labeled &#34;search,&#34; and there's absolutely no function on this watch where &#34;search&#34; would describe what that pusher accomplishes. The metal bezel makes it look a lot better than the rubber or resin bezels you're used to seeing on G-Shocks, and the face is nicely proportioned to the overall size of the watch, where it sometimes looks undersized on other models.                                                                                                                                                                                                                                                                                                                                                                                                                                                                                         |2015-08-27 |\n",
            "|US         |41750372   |R2TAFZNG4KHFQB|B00YTY8MQW|967993443     |Timex Men's Weekender Chronograph Slip-Thru Strap Watch                                                  |Watches         |4          |24           |24         |N   |Y                |Quiet Timex Weekender                                                                             |I recently picked up this watch and the Navy Weekender Chrono. I really like them both - especially for the price. The outer bezel on this watch looks like a brushed chrome in the picture, it actually has a dark gray, almost black, look. The numbers and chronograph dials are cream colored, not a bad look, but don't get the idea that they are off-white. The one big drawback from this watch is the hands also being black with a thin line of cream - which feels lighter than the cream of the numbers. It sometimes is hard to tell what the time is if you only glance at the watch. I would change this either with some sort of white skeleton hands or arrows to make it easier to tell time. The other unusual thing is that the date numbers are in white, so with everything in a cream color it really can stick out. I am glad they chose to go with the dark background though, making it less noticeable.<br /><br />Also, the seconds hand for keeping time is in the dial above the 6, the seconds hand on the watch is for the chronograph function. That's a deal breaker for some people - not me - but be aware. I did change the band because I prefer a leather band, but the NATO was nice. It's on 20mm lugs, which is a nice size. The watch is overall is really nice, a great size for a chrono. It feels great, is good for those days when I feel like something different. The biggest thing is that this Weekender, and the navy, are a little thicker than the traditional Timex Weekender - but also DON'T have the audible ticking. That had turned me off to a lot of Timex watches - I haven't noticed with this one yet - even when listening for it.|2015-08-27 |\n",
            "|US         |2132145    |RNRFACS48ZE4A |B000B55AEK|525035983     |Timex Women's Indiglo Easy Reader Quartz Analog Leather Strap Watch with Date Feature                    |Watches         |5          |21           |21         |N   |Y                |I'm a busy college student and this is the perfect watch. It's smaller than I perceived in the ...|I'm a busy college student and this is the perfect watch. It's smaller than I perceived in the picture, however, I'm not disappointed. It matches everything that I wear which makes it the perfect watch for someone not interested in having an extensive selection to decide from in the morning. Also, I can finally tell someone what the date is when they ask with this handy, little watch's date keeper!                                                                                                                                                                                                                                                                                                                                                                                                                                                                                                                                                                                                                                                                                                                                                                                                                                                                                                                                                                                                                                                                                                                                                                                                                                                                                    |2015-08-27 |\n",
            "|US         |4160429    |R2PO5QTLXJ9LHG|B00TU78EXE|508562164     |AUDEMARS PIGUET ROYAL OAK TOURBILLON 41 EXTRA THIN ROSE GOLD WATCH 26510OR.OO.1220OR.01                  |Watches         |5          |33           |46         |N   |N                |Great watch and it's not a waste of money                                                         |Great watch. I bought one for each arm. I also bought one for the bum that lives down the street. He wears it everyday and has no idea how much it is worth. I also bought one for my wife and one for everyone of my 8 children. They all love it. We live in a box next to that that bum, but we all have great watches.                                                                                                                                                                                                                                                                                                                                                                                                                                                                                                                                                                                                                                                                                                                                                                                                                                                                                                                                                                                                                                                                                                                                                                                                                                                                                                                                                                           |2015-08-27 |\n",
            "|US         |49019268   |R38KDT041DRMIN|B00NIF9H3U|998896201     |Omega Men's 31130423001005 Speedmaster Analog Display Mechanical Hand Wind Silver Watch                  |Watches         |5          |19           |24         |N   |Y                |Looks good on the wrist and cannot wait to read up ...                                            |Gorgeous watch with lots of history.  Looks good on the wrist and cannot wait to read up on it.  A legend.                                                                                                                                                                                                                                                                                                                                                                                                                                                                                                                                                                                                                                                                                                                                                                                                                                                                                                                                                                                                                                                                                                                                                                                                                                                                                                                                                                                                                                                                                                                                                                                           |2015-08-26 |\n",
            "|US         |10220971   |R2MNPDWCA42I4G|B00K92JHX0|826514849     |Fanmis Ceramic Bezel Gmt-master Ii Black Dial Automatic Mechanical Ladies Men's Silver Steel Watch Pa-253|Watches         |1          |17           |20         |N   |N                |Parnis is a scam... unless you are OK with unreliable products.                                   |I bought this watch just a few months ago, and while I think it's a decent buy for the experience/price & value.  What I did not expect was that the ceramic bezel GMT ring just fell off suddenly as I was just casually wearing the watch.  Note:  I wear this watch 1-2 days a week thus very low risk of wear/tear.  I never found the bezel ring and now the watch is pretty much garbage (see photo).  I can't believe it was simply glued on.  Huge disappointment.  Thus, the poor rating I've given to Parnis.  I would not recommend anyone buying a Parnis watch.                                                                                                                                                                                                                                                                                                                                                                                                                                                                                                                                                                                                                                                                                                                                                                                                                                                                                                                                                                                                                                                                                                                         |2015-08-26 |\n",
            "+-----------+-----------+--------------+----------+--------------+---------------------------------------------------------------------------------------------------------+----------------+-----------+-------------+-----------+----+-----------------+--------------------------------------------------------------------------------------------------+-----------------------------------------------------------------------------------------------------------------------------------------------------------------------------------------------------------------------------------------------------------------------------------------------------------------------------------------------------------------------------------------------------------------------------------------------------------------------------------------------------------------------------------------------------------------------------------------------------------------------------------------------------------------------------------------------------------------------------------------------------------------------------------------------------------------------------------------------------------------------------------------------------------------------------------------------------------------------------------------------------------------------------------------------------------------------------------------------------------------------------------------------------------------------------------------------------------------------------------------------------------------------------------------------------------------------------------------------------------------------------------------------------------------------------------------------------------------------------------------------------------------------------------------------------------------------------------------------------------------------------------------------------------------------------------------------------+-----------+\n",
            "only showing top 20 rows\n",
            "\n"
          ],
          "name": "stdout"
        }
      ]
    },
    {
      "cell_type": "code",
      "metadata": {
        "colab": {
          "base_uri": "https://localhost:8080/"
        },
        "id": "zMIu0jn6E72R",
        "outputId": "9802930d-8cea-4350-843f-dfff09e28188"
      },
      "source": [
        "#votes_df_2 = df.filter(df[\"helpful_votes\"]/[\"total_votes\"] >= \"1\")\n",
        "#votes_df_2 = df.filter(df[\"helpful_votes\"/\"total_votes\"] >= \"1\")\n",
        "votes_df_2 = df.filter(df[\"helpful_votes\"] / df[\"total_votes\"] >= \"0.5\")\n",
        "votes_df_2.show(5,truncate=False)"
      ],
      "execution_count": 15,
      "outputs": [
        {
          "output_type": "stream",
          "text": [
            "+-----------+-----------+--------------+----------+--------------+--------------------------------------------------------------------------------------+----------------+-----------+-------------+-----------+----+-----------------+------------------+----------------------------------------------------------------------------------------------------------------------------------------------------------------------------------------------------------------------------------------------------------------------------------------------------------------------------------------------------------------------------------------------------------------------------------------------------------------------------------------------------------------------------------------------------------------------+-----------+\n",
            "|marketplace|customer_id|review_id     |product_id|product_parent|product_title                                                                         |product_category|star_rating|helpful_votes|total_votes|vine|verified_purchase|review_headline   |review_body                                                                                                                                                                                                                                                                                                                                                                                                                                                                                                                                                           |review_date|\n",
            "+-----------+-----------+--------------+----------+--------------+--------------------------------------------------------------------------------------+----------------+-----------+-------------+-----------+----+-----------------+------------------+----------------------------------------------------------------------------------------------------------------------------------------------------------------------------------------------------------------------------------------------------------------------------------------------------------------------------------------------------------------------------------------------------------------------------------------------------------------------------------------------------------------------------------------------------------------------+-----------+\n",
            "|US         |27324930   |R2HLE8WKZSU3NL|B00DKYC7TK|361166390     |Ritche 22mm Black Stainless Steel Bracelet Watch Band Strap Pebble Time/Pebble Classic|Watches         |2          |1            |1          |N   |Y                |Two Stars         |Scratches                                                                                                                                                                                                                                                                                                                                                                                                                                                                                                                                                             |2015-08-31 |\n",
            "|US         |11811565   |RB2Q7DLDN6TH6 |B00WM0QA3M|549298279     |Fossil Women's ES3851 Urban Traveler Multifunction Stainless Steel Watch - Rose       |Watches         |5          |1            |1          |N   |Y                |Five Stars        |for my wife and she loved it, looks great and a great price!                                                                                                                                                                                                                                                                                                                                                                                                                                                                                                          |2015-08-31 |\n",
            "|US         |45925069   |R2Z6JOQ94LFHEP|B00MAMPGGE|263720892     |G-Shock Men's Grey Sport Watch                                                        |Watches         |5          |1            |2          |N   |Y                |Perfect watch!    |Watch is perfect. Rugged with the metal &#34;Bull Bars&#34;. The red accents are a great touch and I get compliments when wearing it. If you are worried about being able to read this in sunlight or in the dark don't! The LED ilumination works great! I might even get this in a different color for my next G-Shock purchase!                                                                                                                                                                                                                                    |2015-08-31 |\n",
            "|US         |9962330    |R15C7QEZT0LGZN|B00KGTVGKS|28017857      |Fossil Women's ES3621 Serena Crystal-Accented Two-Tone Stainless Steel Watch          |Watches         |4          |2            |2          |N   |Y                |Satisfied         |The watch was pretty much as it was described and how it looks. I really like the simplicity of it and it looks pretty amazing. It is slightly too big, so I have yet to adjust it, but I'm glad it's too big rather than too small. The weight is good which is what I was hoping for. Very satisfied with this purchase. I was slightly on the fence getting this one because of the previous fossil watch I had, which by some time, did have some gems fall off from ring around the numbers, but so far so good with this one! Excuse my bad lighting for my pic.|2015-08-31 |\n",
            "|US         |26339765   |RWASY7FKI7QOT |B00R70YEOE|457338020     |Casio - G-Shock - Gulfmaster - Black - GWN1000C-1A                                    |Watches         |5          |2            |3          |N   |Y                |Worth it - love it|Had it for several weeks now and I love it - reliable, functional, wears easy, not too heavy.  I also get a lot of comments on it - great watch!                                                                                                                                                                                                                                                                                                                                                                                                                      |2015-08-31 |\n",
            "+-----------+-----------+--------------+----------+--------------+--------------------------------------------------------------------------------------+----------------+-----------+-------------+-----------+----+-----------------+------------------+----------------------------------------------------------------------------------------------------------------------------------------------------------------------------------------------------------------------------------------------------------------------------------------------------------------------------------------------------------------------------------------------------------------------------------------------------------------------------------------------------------------------------------------------------------------------+-----------+\n",
            "only showing top 5 rows\n",
            "\n"
          ],
          "name": "stdout"
        }
      ]
    },
    {
      "cell_type": "code",
      "metadata": {
        "colab": {
          "base_uri": "https://localhost:8080/"
        },
        "id": "SimRPO0jHGIO",
        "outputId": "c93350a9-7e0d-412f-9004-5c18e6d91992"
      },
      "source": [
        "votes_df_2.filter(votes_df_2[\"vine\"] == \"Y\").show(20)"
      ],
      "execution_count": 16,
      "outputs": [
        {
          "output_type": "stream",
          "text": [
            "+-----------+-----------+--------------+----------+--------------+--------------------+----------------+-----------+-------------+-----------+----+-----------------+--------------------+--------------------+-----------+\n",
            "|marketplace|customer_id|     review_id|product_id|product_parent|       product_title|product_category|star_rating|helpful_votes|total_votes|vine|verified_purchase|     review_headline|         review_body|review_date|\n",
            "+-----------+-----------+--------------+----------+--------------+--------------------+----------------+-----------+-------------+-----------+----+-----------------+--------------------+--------------------+-----------+\n",
            "|         US|   52229317| R6EMI5RKW73N3|B00QK2HAFK|      78116254|Armitron Men's 20...|         Watches|          4|            1|          2|   Y|                N|Great Watch for t...|This is a good lo...| 2015-08-31|\n",
            "|         US|   52408013| R2IZD1134PGIP|B003XOT3T4|     368215170|Swiss Legend Men'...|         Watches|          4|            1|          2|   Y|                N|Beautiful and hea...|If you're looking...| 2015-08-31|\n",
            "|         US|   19601587|R2IVDAK7IYLXJS|B00J0XXHLM|     173104423|Armitron Women's ...|         Watches|          4|            1|          1|   Y|                N|       Very nice....|This is a very ni...| 2015-08-30|\n",
            "|         US|   44066769| RCUJSPL51V519|B003XONEDU|     424300940|Swiss Legend Men'...|         Watches|          4|            1|          1|   Y|                N|Nice Watch, But V...|This is a good lo...| 2015-08-30|\n",
            "|         US|   51051843| R3ZNTDTGSY8SC|B00QK2HAFK|      78116254|Armitron Men's 20...|         Watches|          4|            1|          1|   Y|                N|Decent budget val...|There are actuall...| 2015-08-30|\n",
            "|         US|   24910620|R2DC9TNKKI8EXN|B00UPTGFIC|     935014458|Swiss Legend Men'...|         Watches|          5|            1|          1|   Y|                N|Quality watch and...|First, this is a ...| 2015-08-30|\n",
            "|         US|   48393616|R2GX9CYB2H258C|B00T0QPTW4|     270974229|Armitron Sport Wo...|         Watches|          5|            2|          2|   Y|                N|Works well for bo...|Nice water resist...| 2015-08-29|\n",
            "|         US|   40222946| R749PGSBA9HP6|B00QK2HAFK|      78116254|Armitron Men's 20...|         Watches|          4|            1|          1|   Y|                N|Nice casual watch...|This is a nice-lo...| 2015-08-29|\n",
            "|         US|   51680701|R170PR0NEEIW2E|B00J0XXHLM|     173104423|Armitron Women's ...|         Watches|          4|            2|          2|   Y|                N|Nice looking for ...|Nice looking for ...| 2015-08-29|\n",
            "|         US|   42237639| RMAG0OPUODKQC|B003XOSL88|     983662312|Swiss Legend Men'...|         Watches|          5|            4|          4|   Y|                N|Quality at a reas...|The only complain...| 2015-08-29|\n",
            "|         US|   50725579|  RHVAG30G1H6R|B003XOT3QC|     596362718|Swiss Legend Men'...|         Watches|          4|            2|          2|   Y|                N|Impressive, inexp...|Not unlike the si...| 2015-08-28|\n",
            "|         US|   32693047| RZAIBETH31MBK|B003XOQFHM|     203779823|Swiss Legend Men'...|         Watches|          5|            3|          3|   Y|                N|A Splendid Watch ...|This is a beautif...| 2015-08-28|\n",
            "|         US|   50571766| R8S5K73HX3YTB|B00UPTGG9U|     841326316|Swiss Legend Men'...|         Watches|          3|            3|          3|   Y|                N|This Watch Is The...|A wrist watch is ...| 2015-08-28|\n",
            "|         US|   37982975| RR51IHELMLJIM|B00T0QPTW4|     270974229|Armitron Sport Wo...|         Watches|          5|            1|          1|   Y|                N|Highly functional...|I was surprised t...| 2015-08-27|\n",
            "|         US|   53096363|R1B7M0OP3UNP6O|B00V0G9OGE|     297682929|Armitron Sport Wo...|         Watches|          5|           49|         52|   Y|                N|Lots of features ...|My wife has been ...| 2015-08-27|\n",
            "|         US|   19913187|R1J8KVTM0153U4|B00UPTGFIC|     935014458|Swiss Legend Men'...|         Watches|          3|            1|          1|   Y|                N|Overall decent ca...|This is very nice...| 2015-08-27|\n",
            "|         US|   50820654|R38N5X3DP8GVLO|B00UPTGHU8|     464748708|Swiss Legend Men'...|         Watches|          5|            1|          2|   Y|                N|Very Big Left-Han...|This Swiss Legend...| 2015-08-27|\n",
            "|         US|   14226158|R3UB90FEKTPSJV|B00QK2HAFK|      78116254|Armitron Men's 20...|         Watches|          5|            1|          1|   Y|                N|Great looking wat...|This watch has a ...| 2015-08-26|\n",
            "|         US|   51911225| RDKUL1C4S84R7|B003XOT3QC|     596362718|Swiss Legend Men'...|         Watches|          4|            1|          2|   Y|                N|Timeless Precisio...|This Swiss Legend...| 2015-08-26|\n",
            "|         US|   14343478|R3EYW3RZ3EZ20D|B00UPTGG9U|     841326316|Swiss Legend Men'...|         Watches|          4|            1|          1|   Y|                N|       big and beefy|this is a big, be...| 2015-08-26|\n",
            "+-----------+-----------+--------------+----------+--------------+--------------------+----------------+-----------+-------------+-----------+----+-----------------+--------------------+--------------------+-----------+\n",
            "only showing top 20 rows\n",
            "\n"
          ],
          "name": "stdout"
        }
      ]
    },
    {
      "cell_type": "code",
      "metadata": {
        "colab": {
          "base_uri": "https://localhost:8080/"
        },
        "id": "_QOWZElWHlDD",
        "outputId": "202153ea-5277-42fc-8c06-11f190b098d6"
      },
      "source": [
        "votes_df_2.filter(votes_df_2[\"vine\"] == \"N\").show(20)"
      ],
      "execution_count": 17,
      "outputs": [
        {
          "output_type": "stream",
          "text": [
            "+-----------+-----------+--------------+----------+--------------+--------------------+----------------+-----------+-------------+-----------+----+-----------------+--------------------+--------------------+-----------+\n",
            "|marketplace|customer_id|     review_id|product_id|product_parent|       product_title|product_category|star_rating|helpful_votes|total_votes|vine|verified_purchase|     review_headline|         review_body|review_date|\n",
            "+-----------+-----------+--------------+----------+--------------+--------------------+----------------+-----------+-------------+-----------+----+-----------------+--------------------+--------------------+-----------+\n",
            "|         US|   27324930|R2HLE8WKZSU3NL|B00DKYC7TK|     361166390|Ritche 22mm Black...|         Watches|          2|            1|          1|   N|                Y|           Two Stars|           Scratches| 2015-08-31|\n",
            "|         US|   11811565| RB2Q7DLDN6TH6|B00WM0QA3M|     549298279|Fossil Women's ES...|         Watches|          5|            1|          1|   N|                Y|          Five Stars|for my wife and s...| 2015-08-31|\n",
            "|         US|   45925069|R2Z6JOQ94LFHEP|B00MAMPGGE|     263720892|G-Shock Men's Gre...|         Watches|          5|            1|          2|   N|                Y|      Perfect watch!|Watch is perfect....| 2015-08-31|\n",
            "|         US|    9962330|R15C7QEZT0LGZN|B00KGTVGKS|      28017857|Fossil Women's ES...|         Watches|          4|            2|          2|   N|                Y|           Satisfied|The watch was pre...| 2015-08-31|\n",
            "|         US|   26339765| RWASY7FKI7QOT|B00R70YEOE|     457338020|Casio - G-Shock -...|         Watches|          5|            2|          3|   N|                Y|  Worth it - love it|Had it for severa...| 2015-08-31|\n",
            "|         US|   44713366|R22H4FGVD5O52O|B008X6JB12|     814431355|Seiko Women's SUT...|         Watches|          4|            1|          1|   N|                Y|Thewatch is attra...|The watch is attr...| 2015-08-31|\n",
            "|         US|   46017899| RJ9HWWMU4IAHF|B00F5O06E6|     601596859|Nautica Men's N14...|         Watches|          4|            1|          1|   N|                Y|  Good looking watch|I really like thi...| 2015-08-31|\n",
            "|         US|    6673146|R3629T8HDV5VWU|B007X0SYEY|      22870009|Movado Men's 0606...|         Watches|          5|            1|          1|   N|                Y|          Great Buy!|Absolutely LOVE t...| 2015-08-31|\n",
            "|         US|   27979201|R2QGEJRU4ENYN2|B00FNIFI2O|     330558574|Szanto Men's SZ 2...|         Watches|          5|            1|          1|   N|                N|This was awatch I...|This was a watch ...| 2015-08-31|\n",
            "|         US|     805483|R1HQZDBB90LMFH|B000JQJS6M|     926299553|Invicta Men's 892...|         Watches|          5|            2|          2|   N|                Y|     Very Impressive|This watch is a v...| 2015-08-31|\n",
            "|         US|     112967|R3O51G2D52W9DD|B00G9X76DG|      86861596|INFANTRY Mens 50m...|         Watches|          5|            1|          1|   N|                Y|Surpassed my expe...|I was very appreh...| 2015-08-31|\n",
            "|         US|   51346302|R2O0LW0AZ67P3X|B00SFTTZ9U|       8403354|BUREI Dress Women...|         Watches|          5|            4|          5|   N|                N|A classy looking ...|[[VIDEOID:cc599be...| 2015-08-31|\n",
            "|         US|   27325652|R2288KJ7D0H149|B00C7IQBRY|     201258316|Cerentino Women's...|         Watches|          4|            1|          1|   N|                Y|   Really cute watch|So far so good. I...| 2015-08-31|\n",
            "|         US|   50033390|R38NIR3U01EIS4|B003622WUK|     890272218|Tissot Women's T0...|         Watches|          4|            1|          1|   N|                Y|    I like the watch|I like the watch!...| 2015-08-31|\n",
            "|         US|   41784200|R100HLZJGWAXRP|B00BF77S2K|     479360900|Timex Kids' T7B98...|         Watches|          1|            2|          2|   N|                Y|Leaks water - tot...|This is junk.  Wh...| 2015-08-31|\n",
            "|         US|    4014799|R2DOJG0AT3YOK4|B00V30U79K|      18936638|Topwell Mens Wood...|         Watches|          5|            4|          4|   N|                N|amazing -- perfec...|This is a very ni...| 2015-08-31|\n",
            "|         US|     106740|R27YN77RE11XHO|B00K8HMHCE|     575505209|Swiss Legend Men'...|         Watches|          4|            2|          2|   N|                Y|       but I like it|The size and thic...| 2015-08-31|\n",
            "|         US|   44293218|R12NA6QEKA1PRI|B003X11UFM|     790174403|Stuhrling Origina...|         Watches|          3|            3|          3|   N|                Y|Great looks, medi...|It's a great look...| 2015-08-31|\n",
            "|         US|   15082116|R3USZQZ3BQBZ2O|B00KW20B2I|     890826582|Tissot Men's T095...|         Watches|          5|            5|          5|   N|                Y|     Beautiful watch|This is an impres...| 2015-08-31|\n",
            "|         US|     646967|R3DCF9YRPRETF2|B005C8FISY|      52010592|Tissot Men's T049...|         Watches|          5|            1|          2|   N|                Y|          Five Stars|A beautiful and p...| 2015-08-31|\n",
            "+-----------+-----------+--------------+----------+--------------+--------------------+----------------+-----------+-------------+-----------+----+-----------------+--------------------+--------------------+-----------+\n",
            "only showing top 20 rows\n",
            "\n"
          ],
          "name": "stdout"
        }
      ]
    },
    {
      "cell_type": "code",
      "metadata": {
        "colab": {
          "base_uri": "https://localhost:8080/"
        },
        "id": "1CyjGJvuIQEv",
        "outputId": "ae5c0190-e573-4120-b72a-3d9adf3429ba"
      },
      "source": [
        "from pyspark.sql.functions import col, avg\n",
        "\n",
        "#Total number of reviews\n",
        "\n",
        "#df.filter(df[\"review_id\"] != 'NaN').count()\n",
        "\n",
        "df[df[\"review_id\"] != 'NaN'].count()\n"
      ],
      "execution_count": 80,
      "outputs": [
        {
          "output_type": "execute_result",
          "data": {
            "text/plain": [
              "960872"
            ]
          },
          "metadata": {
            "tags": []
          },
          "execution_count": 80
        }
      ]
    },
    {
      "cell_type": "code",
      "metadata": {
        "colab": {
          "base_uri": "https://localhost:8080/"
        },
        "id": "46iAksZHP3GB",
        "outputId": "287c9405-18eb-4fd6-b4fc-2831c645ba67"
      },
      "source": [
        "#Total number of 5 star reviews\n",
        "#total5StarReviews = votes_df_2.filter(votes_df_2[\"star_rating\"] == '5').count()\n",
        "\n",
        "total5StarReviews = df.filter(df[\"star_rating\"] == '5').count()\n",
        "total5StarReviews\n"
      ],
      "execution_count": 68,
      "outputs": [
        {
          "output_type": "execute_result",
          "data": {
            "text/plain": [
              "571627"
            ]
          },
          "metadata": {
            "tags": []
          },
          "execution_count": 68
        }
      ]
    },
    {
      "cell_type": "code",
      "metadata": {
        "colab": {
          "base_uri": "https://localhost:8080/"
        },
        "id": "SvFl3G-LP8RU",
        "outputId": "2232e4cd-d5d9-49a7-a5d1-e4a3ca525821"
      },
      "source": [
        "#Total number of 5 star reviews (paid)\n",
        "totalPaid5StarReviews = df.filter((df[\"star_rating\"] == '5') & (df[\"vine\"] == 'Y')).count() \n",
        "\n",
        "totalPaid5StarReviews"
      ],
      "execution_count": 70,
      "outputs": [
        {
          "output_type": "execute_result",
          "data": {
            "text/plain": [
              "605"
            ]
          },
          "metadata": {
            "tags": []
          },
          "execution_count": 70
        }
      ]
    },
    {
      "cell_type": "code",
      "metadata": {
        "colab": {
          "base_uri": "https://localhost:8080/"
        },
        "id": "U1KW-KnQSomx",
        "outputId": "f63c4ca5-5edd-4cd2-c6e3-b33beff88810"
      },
      "source": [
        "percentagePaid5StarReviews = (totalPaid5StarReviews / total5StarReviews) * 100\n",
        "\n",
        "percentagePaid5StarReviews"
      ],
      "execution_count": 72,
      "outputs": [
        {
          "output_type": "execute_result",
          "data": {
            "text/plain": [
              "0.10583824766849712"
            ]
          },
          "metadata": {
            "tags": []
          },
          "execution_count": 72
        }
      ]
    },
    {
      "cell_type": "code",
      "metadata": {
        "colab": {
          "base_uri": "https://localhost:8080/"
        },
        "id": "hXzP3vmgQ-zo",
        "outputId": "a9038406-e542-4b3a-818f-169142178105"
      },
      "source": [
        "#Total number of 5 star reviews (Unpaid)\n",
        "totalUnPaid5StarReviews = df.filter((df[\"star_rating\"] == '5') & (df[\"vine\"] == 'N')).count()\n",
        "\n",
        "totalUnPaid5StarReviews"
      ],
      "execution_count": 73,
      "outputs": [
        {
          "output_type": "execute_result",
          "data": {
            "text/plain": [
              "571022"
            ]
          },
          "metadata": {
            "tags": []
          },
          "execution_count": 73
        }
      ]
    },
    {
      "cell_type": "code",
      "metadata": {
        "colab": {
          "base_uri": "https://localhost:8080/"
        },
        "id": "uSfgOyH6TGCL",
        "outputId": "b92d77e5-72e2-418f-dd63-385a423250d3"
      },
      "source": [
        "percentageUnPaid5StarReviews = (totalUnPaid5StarReviews / total5StarReviews) * 100\n",
        "\n",
        "percentageUnPaid5StarReviews\n"
      ],
      "execution_count": 77,
      "outputs": [
        {
          "output_type": "execute_result",
          "data": {
            "text/plain": [
              "99.8941617523315"
            ]
          },
          "metadata": {
            "tags": []
          },
          "execution_count": 77
        }
      ]
    }
  ]
}